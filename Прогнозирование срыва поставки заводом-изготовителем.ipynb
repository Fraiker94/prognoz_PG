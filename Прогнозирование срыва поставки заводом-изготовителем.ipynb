{
 "cells": [
  {
   "cell_type": "markdown",
   "id": "5552b2b6",
   "metadata": {},
   "source": [
    "# Постановка задачи\n",
    "Существуют общепринятая система поставок оборудования по цепочке: заказчик-поставщик-завод. Иногда поставщик и завод могут быть представлены одной компанией. \n",
    "Обязательным условием договора между компаниями является указание в нем срока поставки закупаемого оборудования. Нарушение данного срока согласно условиям договора ведет в последующем к предъявлению претензии конечного заказчика к поставщику. Зачастую штрафные санкции превышают рентабельность поставщика и сделка становится убыточной.\n",
    "В связи с этим, поставщику необходимо на стадии подписании договора или предоставлении оферты на тендере понимать на сколько завод может сорвать срок поставки оборудования. Далее можно заложить данную дельту в пункт договора.\n",
    "\n",
    "В данном исследовании мы будем в лице поставщика, данные выгружены из 1С Бухгалтерии. Наименования компаний(юридичиских лиц) и другая коммерческая информация в данном исследовании не используется.    \n"
   ]
  },
  {
   "cell_type": "code",
   "execution_count": 1,
   "id": "9a7923ee",
   "metadata": {},
   "outputs": [],
   "source": [
    "import pandas as pd\n",
    "import matplotlib.pyplot as plt\n",
    "from sklearn.linear_model import LinearRegression"
   ]
  },
  {
   "cell_type": "markdown",
   "id": "75d367d4",
   "metadata": {},
   "source": [
    "# Загрузка данных"
   ]
  },
  {
   "cell_type": "code",
   "execution_count": 10,
   "id": "b5dcd163",
   "metadata": {},
   "outputs": [],
   "source": [
    "df = pd.read_excel('Dataset_PG.xlsx')"
   ]
  },
  {
   "cell_type": "markdown",
   "id": "cfc7cd6b",
   "metadata": {},
   "source": [
    "Данные подготавливались в Excel, т.к. экспорт данных из 1С Бухгалтерии в Excel более удобен. Выгрузка сделана за последние 5 лет."
   ]
  },
  {
   "cell_type": "code",
   "execution_count": 12,
   "id": "bf84a117",
   "metadata": {},
   "outputs": [
    {
     "data": {
      "text/html": [
       "<div>\n",
       "<style scoped>\n",
       "    .dataframe tbody tr th:only-of-type {\n",
       "        vertical-align: middle;\n",
       "    }\n",
       "\n",
       "    .dataframe tbody tr th {\n",
       "        vertical-align: top;\n",
       "    }\n",
       "\n",
       "    .dataframe thead th {\n",
       "        text-align: right;\n",
       "    }\n",
       "</style>\n",
       "<table border=\"1\" class=\"dataframe\">\n",
       "  <thead>\n",
       "    <tr style=\"text-align: right;\">\n",
       "      <th></th>\n",
       "      <th>id</th>\n",
       "      <th>spec</th>\n",
       "      <th>equipment</th>\n",
       "      <th>type</th>\n",
       "      <th>delivery_time_theory</th>\n",
       "      <th>delivery_time_fact</th>\n",
       "      <th>order_date</th>\n",
       "    </tr>\n",
       "  </thead>\n",
       "  <tbody>\n",
       "    <tr>\n",
       "      <th>0</th>\n",
       "      <td>1</td>\n",
       "      <td>33</td>\n",
       "      <td>Щит управления вентиляцией комплектный в сборе...</td>\n",
       "      <td>НКУ</td>\n",
       "      <td>75</td>\n",
       "      <td>75</td>\n",
       "      <td>2016-10-26</td>\n",
       "    </tr>\n",
       "    <tr>\n",
       "      <th>1</th>\n",
       "      <td>2</td>\n",
       "      <td>1</td>\n",
       "      <td>Подстанция трансформаторная комплектная 2КТП 1...</td>\n",
       "      <td>КТП</td>\n",
       "      <td>90</td>\n",
       "      <td>112</td>\n",
       "      <td>2017-01-20</td>\n",
       "    </tr>\n",
       "    <tr>\n",
       "      <th>2</th>\n",
       "      <td>3</td>\n",
       "      <td>50</td>\n",
       "      <td>Шкаф управления ШГЕ-3 (Ш9113-А574ХЛ1)</td>\n",
       "      <td>НКУ</td>\n",
       "      <td>80</td>\n",
       "      <td>80</td>\n",
       "      <td>2017-05-25</td>\n",
       "    </tr>\n",
       "    <tr>\n",
       "      <th>3</th>\n",
       "      <td>4</td>\n",
       "      <td>52</td>\n",
       "      <td>Шкаф управления ШГЕ-3 (Ш9113-А574ХЛ1)</td>\n",
       "      <td>НКУ</td>\n",
       "      <td>80</td>\n",
       "      <td>125</td>\n",
       "      <td>2017-09-29</td>\n",
       "    </tr>\n",
       "    <tr>\n",
       "      <th>4</th>\n",
       "      <td>5</td>\n",
       "      <td>53</td>\n",
       "      <td>Шкаф управления ШГЕ-3 (Ш9113-А574ХЛ1)</td>\n",
       "      <td>НКУ</td>\n",
       "      <td>80</td>\n",
       "      <td>121</td>\n",
       "      <td>2017-10-03</td>\n",
       "    </tr>\n",
       "    <tr>\n",
       "      <th>...</th>\n",
       "      <td>...</td>\n",
       "      <td>...</td>\n",
       "      <td>...</td>\n",
       "      <td>...</td>\n",
       "      <td>...</td>\n",
       "      <td>...</td>\n",
       "      <td>...</td>\n",
       "    </tr>\n",
       "    <tr>\n",
       "      <th>102</th>\n",
       "      <td>103</td>\n",
       "      <td>123</td>\n",
       "      <td>Устройство автоматическое фильтрокомпенсирующе...</td>\n",
       "      <td>УКРМ</td>\n",
       "      <td>120</td>\n",
       "      <td>107</td>\n",
       "      <td>2021-06-30</td>\n",
       "    </tr>\n",
       "    <tr>\n",
       "      <th>103</th>\n",
       "      <td>104</td>\n",
       "      <td>124</td>\n",
       "      <td>1ХКТПБ121В66301С06Т-А1Б1Е1П1Р1С1Т1У1</td>\n",
       "      <td>КТП</td>\n",
       "      <td>85</td>\n",
       "      <td>175</td>\n",
       "      <td>2021-08-23</td>\n",
       "    </tr>\n",
       "    <tr>\n",
       "      <th>104</th>\n",
       "      <td>105</td>\n",
       "      <td>125</td>\n",
       "      <td>КТП(ВВ) 2500/10/6 УХЛ1</td>\n",
       "      <td>КТП</td>\n",
       "      <td>120</td>\n",
       "      <td>131</td>\n",
       "      <td>2021-09-01</td>\n",
       "    </tr>\n",
       "    <tr>\n",
       "      <th>105</th>\n",
       "      <td>106</td>\n",
       "      <td>125</td>\n",
       "      <td>Подстанция трансформаторная комплектная КТПН-4...</td>\n",
       "      <td>КТП</td>\n",
       "      <td>85</td>\n",
       "      <td>150</td>\n",
       "      <td>2021-09-01</td>\n",
       "    </tr>\n",
       "    <tr>\n",
       "      <th>106</th>\n",
       "      <td>107</td>\n",
       "      <td>126</td>\n",
       "      <td>Подстанция трансформаторная комплектная КТПН-4...</td>\n",
       "      <td>КТП</td>\n",
       "      <td>85</td>\n",
       "      <td>111</td>\n",
       "      <td>2021-09-07</td>\n",
       "    </tr>\n",
       "  </tbody>\n",
       "</table>\n",
       "<p>107 rows × 7 columns</p>\n",
       "</div>"
      ],
      "text/plain": [
       "      id  spec                                          equipment  type  \\\n",
       "0      1    33  Щит управления вентиляцией комплектный в сборе...   НКУ   \n",
       "1      2     1  Подстанция трансформаторная комплектная 2КТП 1...   КТП   \n",
       "2      3    50              Шкаф управления ШГЕ-3 (Ш9113-А574ХЛ1)   НКУ   \n",
       "3      4    52              Шкаф управления ШГЕ-3 (Ш9113-А574ХЛ1)   НКУ   \n",
       "4      5    53              Шкаф управления ШГЕ-3 (Ш9113-А574ХЛ1)   НКУ   \n",
       "..   ...   ...                                                ...   ...   \n",
       "102  103   123  Устройство автоматическое фильтрокомпенсирующе...  УКРМ   \n",
       "103  104   124               1ХКТПБ121В66301С06Т-А1Б1Е1П1Р1С1Т1У1   КТП   \n",
       "104  105   125                             КТП(ВВ) 2500/10/6 УХЛ1   КТП   \n",
       "105  106   125  Подстанция трансформаторная комплектная КТПН-4...   КТП   \n",
       "106  107   126  Подстанция трансформаторная комплектная КТПН-4...   КТП   \n",
       "\n",
       "     delivery_time_theory  delivery_time_fact order_date  \n",
       "0                      75                  75 2016-10-26  \n",
       "1                      90                 112 2017-01-20  \n",
       "2                      80                  80 2017-05-25  \n",
       "3                      80                 125 2017-09-29  \n",
       "4                      80                 121 2017-10-03  \n",
       "..                    ...                 ...        ...  \n",
       "102                   120                 107 2021-06-30  \n",
       "103                    85                 175 2021-08-23  \n",
       "104                   120                 131 2021-09-01  \n",
       "105                    85                 150 2021-09-01  \n",
       "106                    85                 111 2021-09-07  \n",
       "\n",
       "[107 rows x 7 columns]"
      ]
     },
     "execution_count": 12,
     "metadata": {},
     "output_type": "execute_result"
    }
   ],
   "source": [
    "df"
   ]
  },
  {
   "cell_type": "markdown",
   "id": "65c095b5",
   "metadata": {},
   "source": [
    "* id - внутренний индификатор данных, который не нужен и в последствии будет удален\n",
    "* spec - номер спецификации между контрагентами. Введен для удобства поиска конкретных спецификаций с выбросами данных (если такие обнаружатся)\n",
    "* equipment - наименование оборудования согласно спецификации\n",
    "* type - тип оборудования, который может влиять на срыв поставки (если такая зависимость обнаружится, будет объясненно почему)\n",
    "* delivery_time_theory - срок поставки с момента подписания спецификации контрагентами\n",
    "* delivery_time_fact - фактический срок поставки с момента подписания спецификации контрагентами. Чаще всего больше значения delivery_time_theory, но бывали и досрочные поставки\n",
    "* order_date - дата подсписания спецификации контрагентами. Считается фактической датой размещения заказа."
   ]
  },
  {
   "cell_type": "markdown",
   "id": "ce35a462",
   "metadata": {},
   "source": [
    "# Проверка данных, добавление необходимых столбцов"
   ]
  },
  {
   "cell_type": "code",
   "execution_count": 13,
   "id": "1717d772",
   "metadata": {},
   "outputs": [
    {
     "data": {
      "text/plain": [
       "id                      False\n",
       "spec                    False\n",
       "equipment               False\n",
       "type                    False\n",
       "delivery_time_theory    False\n",
       "delivery_time_fact      False\n",
       "order_date              False\n",
       "dtype: bool"
      ]
     },
     "execution_count": 13,
     "metadata": {},
     "output_type": "execute_result"
    }
   ],
   "source": [
    "pd.isnull(df).any()"
   ]
  },
  {
   "cell_type": "markdown",
   "id": "05c94026",
   "metadata": {},
   "source": [
    "Пропуски данных отсутвуют. Т.к. датасэт небольшой, то пропуски были проверены при экспортировании из 1С."
   ]
  },
  {
   "cell_type": "code",
   "execution_count": 14,
   "id": "87b5b337",
   "metadata": {},
   "outputs": [
    {
     "name": "stdout",
     "output_type": "stream",
     "text": [
      "<class 'pandas.core.frame.DataFrame'>\n",
      "RangeIndex: 107 entries, 0 to 106\n",
      "Data columns (total 7 columns):\n",
      " #   Column                Non-Null Count  Dtype         \n",
      "---  ------                --------------  -----         \n",
      " 0   id                    107 non-null    int64         \n",
      " 1   spec                  107 non-null    int64         \n",
      " 2   equipment             107 non-null    object        \n",
      " 3   type                  107 non-null    object        \n",
      " 4   delivery_time_theory  107 non-null    int64         \n",
      " 5   delivery_time_fact    107 non-null    int64         \n",
      " 6   order_date            107 non-null    datetime64[ns]\n",
      "dtypes: datetime64[ns](1), int64(4), object(2)\n",
      "memory usage: 6.0+ KB\n"
     ]
    }
   ],
   "source": [
    "df.info()"
   ]
  },
  {
   "cell_type": "markdown",
   "id": "cc26117c",
   "metadata": {},
   "source": [
    "Как видим из отчета, данные нам подходят. Однако у нас отсутсвует информация о просрочке в нашем датафрэйме, поэтому добавим с помощью математического действия:"
   ]
  },
  {
   "cell_type": "code",
   "execution_count": 15,
   "id": "c9868e99",
   "metadata": {},
   "outputs": [],
   "source": [
    "df = df.assign(delta = df.delivery_time_fact - df.delivery_time_theory)"
   ]
  },
  {
   "cell_type": "markdown",
   "id": "0247f1a8",
   "metadata": {},
   "source": [
    "# Визуализация"
   ]
  },
  {
   "cell_type": "code",
   "execution_count": 27,
   "id": "13ccded3",
   "metadata": {},
   "outputs": [
    {
     "data": {
      "text/plain": [
       "Text(0.5, 0, 'Срок поставки, заявивший завод')"
      ]
     },
     "execution_count": 27,
     "metadata": {},
     "output_type": "execute_result"
    },
    {
     "data": {
      "image/png": "[encoded data removed]",
      "text/plain": [
       "<Figure size 720x432 with 1 Axes>"
      ]
     },
     "metadata": {
      "needs_background": "light"
     },
     "output_type": "display_data"
    }
   ],
   "source": [
    "plt.figure(figsize=(10,6))\n",
    "plt.scatter( df.delivery_time_theory, df.delta)\n",
    "plt.ylabel('Дельта(срыв срока поставки в днях)')\n",
    "plt.xlabel('Срок поставки, заявивший завод')"
   ]
  },
  {
   "cell_type": "markdown",
   "id": "db35d78d",
   "metadata": {},
   "source": [
    "# Модель"
   ]
  },
  {
   "cell_type": "code",
   "execution_count": 25,
   "id": "050109a9",
   "metadata": {},
   "outputs": [],
   "source": [
    "model = LinearRegression()"
   ]
  },
  {
   "cell_type": "code",
   "execution_count": 28,
   "id": "6dfd0eb7",
   "metadata": {},
   "outputs": [],
   "source": [
    "x = pd.DataFrame(df.delivery_time_theory)\n",
    "y = pd.DataFrame(df.delta)"
   ]
  },
  {
   "cell_type": "code",
   "execution_count": 29,
   "id": "b3808641",
   "metadata": {},
   "outputs": [
    {
     "data": {
      "text/plain": [
       "LinearRegression()"
      ]
     },
     "execution_count": 29,
     "metadata": {},
     "output_type": "execute_result"
    }
   ],
   "source": [
    "model.fit(x,y)"
   ]
  },
  {
   "cell_type": "code",
   "execution_count": 30,
   "id": "88484296",
   "metadata": {},
   "outputs": [
    {
     "data": {
      "text/plain": [
       "array([[-0.04590473]])"
      ]
     },
     "execution_count": 30,
     "metadata": {},
     "output_type": "execute_result"
    }
   ],
   "source": [
    "model.coef_"
   ]
  },
  {
   "cell_type": "code",
   "execution_count": 31,
   "id": "eed49b4a",
   "metadata": {},
   "outputs": [
    {
     "data": {
      "text/plain": [
       "array([32.39493589])"
      ]
     },
     "execution_count": 31,
     "metadata": {},
     "output_type": "execute_result"
    }
   ],
   "source": [
    "model.intercept_"
   ]
  },
  {
   "cell_type": "code",
   "execution_count": 33,
   "id": "e6c575c7",
   "metadata": {},
   "outputs": [
    {
     "data": {
      "text/plain": [
       "Text(0.5, 0, 'Срок поставки, заявивший завод')"
      ]
     },
     "execution_count": 33,
     "metadata": {},
     "output_type": "execute_result"
    },
    {
     "data": {
      "image/png": "[encoded data removed]",
      "text/plain": [
       "<Figure size 720x432 with 1 Axes>"
      ]
     },
     "metadata": {
      "needs_background": "light"
     },
     "output_type": "display_data"
    }
   ],
   "source": [
    "plt.figure(figsize=(10,6))\n",
    "plt.scatter( df.delivery_time_theory, df.delta)\n",
    "plt.plot(x, model.predict(x), color = 'red')\n",
    "plt.ylabel('Дельта(срыв срока поставки в днях)')\n",
    "plt.xlabel('Срок поставки, заявивший завод')\n"
   ]
  },
  {
   "cell_type": "code",
   "execution_count": 34,
   "id": "8d8354bf",
   "metadata": {},
   "outputs": [
    {
     "data": {
      "text/plain": [
       "0.00428725463923163"
      ]
     },
     "execution_count": 34,
     "metadata": {},
     "output_type": "execute_result"
    }
   ],
   "source": [
    "model.score(x,y)"
   ]
  },
  {
   "cell_type": "markdown",
   "id": "38b30e68",
   "metadata": {},
   "source": [
    "Коэффициент детерминации близок к нулю. Это говорит о том, что срыв срока поставки не обусловлен влиянием от теоретического срока поставки? "
   ]
  },
  {
   "cell_type": "code",
   "execution_count": 38,
   "id": "b59ffe12",
   "metadata": {},
   "outputs": [
    {
     "data": {
      "text/plain": [
       "array([[29.64065195]])"
      ]
     },
     "execution_count": 38,
     "metadata": {},
     "output_type": "execute_result"
    }
   ],
   "source": [
    "model.predict([[60]])"
   ]
  },
  {
   "cell_type": "markdown",
   "id": "7a7a77c9",
   "metadata": {},
   "source": [
    "# Заметки"
   ]
  },
  {
   "cell_type": "code",
   "execution_count": 46,
   "id": "4354a5c3",
   "metadata": {},
   "outputs": [
    {
     "data": {
      "image/png": "[encoded data removed]",
      "text/plain": [
       "<Figure size 720x432 with 1 Axes>"
      ]
     },
     "metadata": {
      "needs_background": "light"
     },
     "output_type": "display_data"
    }
   ],
   "source": [
    "plt.figure(figsize=(10,6))\n",
    "plt.hist(df['delta'], bins=50, ec='black', color='#2196f3')\n",
    "plt.ylabel('Дельта(срыв срока поставки в днях)')\n",
    "plt.xlabel('Срок поставки, заявивший завод')\n",
    "plt.show()"
   ]
  },
  {
   "cell_type": "code",
   "execution_count": 47,
   "id": "d00858f4",
   "metadata": {},
   "outputs": [
    {
     "data": {
      "text/html": [
       "<div>\n",
       "<style scoped>\n",
       "    .dataframe tbody tr th:only-of-type {\n",
       "        vertical-align: middle;\n",
       "    }\n",
       "\n",
       "    .dataframe tbody tr th {\n",
       "        vertical-align: top;\n",
       "    }\n",
       "\n",
       "    .dataframe thead th {\n",
       "        text-align: right;\n",
       "    }\n",
       "</style>\n",
       "<table border=\"1\" class=\"dataframe\">\n",
       "  <thead>\n",
       "    <tr style=\"text-align: right;\">\n",
       "      <th></th>\n",
       "      <th>id</th>\n",
       "      <th>spec</th>\n",
       "      <th>delivery_time_theory</th>\n",
       "      <th>delivery_time_fact</th>\n",
       "      <th>delta</th>\n",
       "    </tr>\n",
       "  </thead>\n",
       "  <tbody>\n",
       "    <tr>\n",
       "      <th>id</th>\n",
       "      <td>1.000000</td>\n",
       "      <td>0.956335</td>\n",
       "      <td>0.157336</td>\n",
       "      <td>0.187807</td>\n",
       "      <td>0.092511</td>\n",
       "    </tr>\n",
       "    <tr>\n",
       "      <th>spec</th>\n",
       "      <td>0.956335</td>\n",
       "      <td>1.000000</td>\n",
       "      <td>0.176028</td>\n",
       "      <td>0.202780</td>\n",
       "      <td>0.091114</td>\n",
       "    </tr>\n",
       "    <tr>\n",
       "      <th>delivery_time_theory</th>\n",
       "      <td>0.157336</td>\n",
       "      <td>0.176028</td>\n",
       "      <td>1.000000</td>\n",
       "      <td>0.806443</td>\n",
       "      <td>-0.065477</td>\n",
       "    </tr>\n",
       "    <tr>\n",
       "      <th>delivery_time_fact</th>\n",
       "      <td>0.187807</td>\n",
       "      <td>0.202780</td>\n",
       "      <td>0.806443</td>\n",
       "      <td>1.000000</td>\n",
       "      <td>0.537240</td>\n",
       "    </tr>\n",
       "    <tr>\n",
       "      <th>delta</th>\n",
       "      <td>0.092511</td>\n",
       "      <td>0.091114</td>\n",
       "      <td>-0.065477</td>\n",
       "      <td>0.537240</td>\n",
       "      <td>1.000000</td>\n",
       "    </tr>\n",
       "  </tbody>\n",
       "</table>\n",
       "</div>"
      ],
      "text/plain": [
       "                            id      spec  delivery_time_theory  \\\n",
       "id                    1.000000  0.956335              0.157336   \n",
       "spec                  0.956335  1.000000              0.176028   \n",
       "delivery_time_theory  0.157336  0.176028              1.000000   \n",
       "delivery_time_fact    0.187807  0.202780              0.806443   \n",
       "delta                 0.092511  0.091114             -0.065477   \n",
       "\n",
       "                      delivery_time_fact     delta  \n",
       "id                              0.187807  0.092511  \n",
       "spec                            0.202780  0.091114  \n",
       "delivery_time_theory            0.806443 -0.065477  \n",
       "delivery_time_fact              1.000000  0.537240  \n",
       "delta                           0.537240  1.000000  "
      ]
     },
     "execution_count": 47,
     "metadata": {},
     "output_type": "execute_result"
    }
   ],
   "source": [
    "df.corr()"
   ]
  },
  {
   "cell_type": "code",
   "execution_count": null,
   "id": "0a3568ab",
   "metadata": {},
   "outputs": [],
   "source": []
  }
 ],
 "metadata": {
  "kernelspec": {
   "display_name": "Python 3 (ipykernel)",
   "language": "python",
   "name": "python3"
  },
  "language_info": {
   "codemirror_mode": {
    "name": "ipython",
    "version": 3
   },
   "file_extension": ".py",
   "mimetype": "text/x-python",
   "name": "python",
   "nbconvert_exporter": "python",
   "pygments_lexer": "ipython3",
   "version": "3.9.7"
  }
 },
 "nbformat": 4,
 "nbformat_minor": 5
}
